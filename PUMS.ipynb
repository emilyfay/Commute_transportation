{
 "cells": [
  {
   "cell_type": "markdown",
   "metadata": {},
   "source": [
    "# Analysis of ACS Public Use Microdata Sample"
   ]
  },
  {
   "cell_type": "code",
   "execution_count": 1,
   "metadata": {
    "collapsed": true
   },
   "outputs": [],
   "source": [
    "import pandas as pd\n",
    "import sqlite3 as sq\n",
    "import matplotlib.pyplot as plt\n",
    "import numpy as np\n",
    "import seaborn\n",
    "%matplotlib inline"
   ]
  },
  {
   "cell_type": "markdown",
   "metadata": {},
   "source": [
    "Read in the data from the 2 csv files. File 'a' contains data from the first 25 states, and file b from the last 25 states. Each files is about 1.5 GB.\n",
    "\n",
    "There are 283 columns of data, but we're only going to read in a subset of the columns. The data dictionary can be found at http://www2.census.gov/programs-surveys/acs/tech_docs/pums/data_dict/PUMSDataDict13.txt .\n",
    "\n",
    "After we read in each dataframe, we can concatenate them into a single dataframe."
   ]
  },
  {
   "cell_type": "code",
   "execution_count": 11,
   "metadata": {
    "collapsed": false
   },
   "outputs": [],
   "source": [
    "use_cols = ['SERIALNO','PUMA','ST','ADJINC','PWGTP','AGEP','CIT','CITWP',\n",
    "            'COW','DDRS','DEAR','DEYE','ENG','HINS1','HINS2','HINS3',\n",
    "            'HINS4','HINS5','HINS6','HINS7','INTP','JWMNP','JWRIP','JWTR',\n",
    "            'MAR','MIG','OIP','PAP','RETP','SCHL','SEMP','SEX','SSIP','SSP',\n",
    "            'WAGP','WKHP','WKL','WKW','YOEP','DIS','ESR','FOD1P','HICOV', \n",
    "            'INDP','JWAP','JWDP','NATIVITY','NOP','OCCP','PERNP','PINCP',\n",
    "            'RAC1P','SCIENGP','SCIENGRLP','WAOB']\n",
    "PUMS_a = pd.read_csv('ss13pusa.csv', usecols = use_cols)\n",
    "PUMS_b = pd.read_csv('ss13pusb.csv', usecols = use_cols)"
   ]
  },
  {
   "cell_type": "code",
   "execution_count": 18,
   "metadata": {
    "collapsed": false
   },
   "outputs": [],
   "source": [
    "PUMS_full = pd.concat([PUMS_a,PUMS_b])"
   ]
  },
  {
   "cell_type": "code",
   "execution_count": 19,
   "metadata": {
    "collapsed": false
   },
   "outputs": [
    {
     "data": {
      "text/plain": [
       "(3132795, 55)"
      ]
     },
     "execution_count": 19,
     "metadata": {},
     "output_type": "execute_result"
    }
   ],
   "source": [
    "PUMS_full.shape"
   ]
  },
  {
   "cell_type": "markdown",
   "metadata": {},
   "source": [
    "We now have a single dataframe with 55 columns and about 3 million rows. It's easier to work with pandas to clean data, but this data is already in a very useable format.\n",
    "\n",
    "It'll be easier to work with the data if it's in a SQLite database. We can do this using the pandas function to_sql."
   ]
  },
  {
   "cell_type": "code",
   "execution_count": 20,
   "metadata": {
    "collapsed": true
   },
   "outputs": [],
   "source": [
    "conn = sq.connect('PUMS.db')\n",
    "PUMS_full.to_sql('PUMS',conn,index = False)"
   ]
  },
  {
   "cell_type": "markdown",
   "metadata": {},
   "source": [
    "We can quickly check the table info for our new table using pragma table_info():"
   ]
  },
  {
   "cell_type": "code",
   "execution_count": 23,
   "metadata": {
    "collapsed": false
   },
   "outputs": [
    {
     "name": "stdout",
     "output_type": "stream",
     "text": [
      "(0, u'SERIALNO', u'INTEGER', 0, None, 0)\n",
      "(1, u'PUMA', u'INTEGER', 0, None, 0)\n",
      "(2, u'ST', u'INTEGER', 0, None, 0)\n",
      "(3, u'ADJINC', u'INTEGER', 0, None, 0)\n",
      "(4, u'PWGTP', u'INTEGER', 0, None, 0)\n",
      "(5, u'AGEP', u'INTEGER', 0, None, 0)\n",
      "(6, u'CIT', u'INTEGER', 0, None, 0)\n",
      "(7, u'CITWP', u'REAL', 0, None, 0)\n",
      "(8, u'COW', u'REAL', 0, None, 0)\n",
      "(9, u'DDRS', u'REAL', 0, None, 0)\n",
      "(10, u'DEAR', u'INTEGER', 0, None, 0)\n",
      "(11, u'DEYE', u'INTEGER', 0, None, 0)\n",
      "(12, u'ENG', u'REAL', 0, None, 0)\n",
      "(13, u'HINS1', u'INTEGER', 0, None, 0)\n",
      "(14, u'HINS2', u'INTEGER', 0, None, 0)\n",
      "(15, u'HINS3', u'INTEGER', 0, None, 0)\n",
      "(16, u'HINS4', u'INTEGER', 0, None, 0)\n",
      "(17, u'HINS5', u'INTEGER', 0, None, 0)\n",
      "(18, u'HINS6', u'INTEGER', 0, None, 0)\n",
      "(19, u'HINS7', u'INTEGER', 0, None, 0)\n",
      "(20, u'INTP', u'REAL', 0, None, 0)\n",
      "(21, u'JWMNP', u'REAL', 0, None, 0)\n",
      "(22, u'JWRIP', u'REAL', 0, None, 0)\n",
      "(23, u'JWTR', u'REAL', 0, None, 0)\n",
      "(24, u'MAR', u'INTEGER', 0, None, 0)\n",
      "(25, u'MIG', u'REAL', 0, None, 0)\n",
      "(26, u'OIP', u'REAL', 0, None, 0)\n",
      "(27, u'PAP', u'REAL', 0, None, 0)\n",
      "(28, u'RETP', u'REAL', 0, None, 0)\n",
      "(29, u'SCHL', u'REAL', 0, None, 0)\n",
      "(30, u'SEMP', u'REAL', 0, None, 0)\n",
      "(31, u'SEX', u'INTEGER', 0, None, 0)\n",
      "(32, u'SSIP', u'REAL', 0, None, 0)\n",
      "(33, u'SSP', u'REAL', 0, None, 0)\n",
      "(34, u'WAGP', u'REAL', 0, None, 0)\n",
      "(35, u'WKHP', u'REAL', 0, None, 0)\n",
      "(36, u'WKL', u'REAL', 0, None, 0)\n",
      "(37, u'WKW', u'REAL', 0, None, 0)\n",
      "(38, u'YOEP', u'REAL', 0, None, 0)\n",
      "(39, u'DIS', u'INTEGER', 0, None, 0)\n",
      "(40, u'ESR', u'REAL', 0, None, 0)\n",
      "(41, u'FOD1P', u'REAL', 0, None, 0)\n",
      "(42, u'HICOV', u'INTEGER', 0, None, 0)\n",
      "(43, u'INDP', u'REAL', 0, None, 0)\n",
      "(44, u'JWAP', u'REAL', 0, None, 0)\n",
      "(45, u'JWDP', u'REAL', 0, None, 0)\n",
      "(46, u'NATIVITY', u'INTEGER', 0, None, 0)\n",
      "(47, u'NOP', u'REAL', 0, None, 0)\n",
      "(48, u'OCCP', u'REAL', 0, None, 0)\n",
      "(49, u'PERNP', u'REAL', 0, None, 0)\n",
      "(50, u'PINCP', u'REAL', 0, None, 0)\n",
      "(51, u'RAC1P', u'INTEGER', 0, None, 0)\n",
      "(52, u'SCIENGP', u'REAL', 0, None, 0)\n",
      "(53, u'SCIENGRLP', u'REAL', 0, None, 0)\n",
      "(54, u'WAOB', u'INTEGER', 0, None, 0)\n"
     ]
    }
   ],
   "source": [
    "table_info = conn.execute('pragma table_info(PUMS);').fetchall()\n",
    "for info in table_info: print(info)"
   ]
  },
  {
   "cell_type": "code",
   "execution_count": 58,
   "metadata": {
    "collapsed": true
   },
   "outputs": [],
   "source": [
    "del PUMS_a, PUMS_b"
   ]
  },
  {
   "cell_type": "markdown",
   "metadata": {},
   "source": [
    "Now we're ready to start doing some analysis. Let's start with something really basic: looking at the male / female breakdown of the persons included in the study. The only response options here are '1': Male and '2': Female."
   ]
  },
  {
   "cell_type": "code",
   "execution_count": 50,
   "metadata": {
    "collapsed": false
   },
   "outputs": [
    {
     "name": "stdout",
     "output_type": "stream",
     "text": [
      "Total number of males is 1528734; 48.80 percent of total\n",
      "Total number of females is 1604061; 51.20 percent of total\n"
     ]
    }
   ],
   "source": [
    "query = ('SELECT count(SEX) FROM PUMS WHERE SEX == 1 '\n",
    "         'UNION '\n",
    "         'SELECT count(SEX) FROM PUMS WHERE SEX == 2 '\n",
    "         'UNION '\n",
    "         'SELECT count(*) FROM PUMS;')\n",
    "        \n",
    "\n",
    "output = conn.execute(query).fetchall()\n",
    "n_males = output[0][0]\n",
    "n_females = output[1][0]\n",
    "n_tot = output[2][0]\n",
    "\n",
    "print('Total number of males is %i; %.2f percent of total' %(n_males, 100.00*n_males/n_tot))\n",
    "print('Total number of females is %i; %.2f percent of total' %(n_females, 100.00*n_females/n_tot))\n"
   ]
  },
  {
   "cell_type": "markdown",
   "metadata": {},
   "source": [
    "Now let's look at the distribution of earnings by sex. \n",
    "The column 'PERNP' contains the dollar amount of total earnings in the past 12 months. \n",
    "The column 'ADJINC' is the adjustment factor to inflation-adjust reported income to 2013 dollars."
   ]
  },
  {
   "cell_type": "code",
   "execution_count": 60,
   "metadata": {
    "collapsed": true
   },
   "outputs": [],
   "source": [
    "query = ('SELECT PERNP*ADJINC FROM PUMS WHERE SEX==1 '\n",
    "         'UNION '\n",
    "         'SELECT PERNP*ADJINC FROM PUMS WHERE SEX==2;')\n",
    "output = conn.execute(query).fetchall()\n",
    "male_earnings = np.asarray(output[0])\n",
    "female_earnings = np.asarray(output[1])"
   ]
  },
  {
   "cell_type": "code",
   "execution_count": 61,
   "metadata": {
    "collapsed": false
   },
   "outputs": [
    {
     "data": {
      "text/plain": [
       "numpy.ndarray"
      ]
     },
     "execution_count": 61,
     "metadata": {},
     "output_type": "execute_result"
    }
   ],
   "source": [
    "type(male_earnings)"
   ]
  },
  {
   "cell_type": "code",
   "execution_count": 62,
   "metadata": {
    "collapsed": false
   },
   "outputs": [
    {
     "ename": "TypeError",
     "evalue": "unsupported operand type(s) for /: 'NoneType' and 'int'",
     "output_type": "error",
     "traceback": [
      "\u001b[0;31m---------------------------------------------------------------------------\u001b[0m",
      "\u001b[0;31mTypeError\u001b[0m                                 Traceback (most recent call last)",
      "\u001b[0;32m<ipython-input-62-6bddd611f39e>\u001b[0m in \u001b[0;36m<module>\u001b[0;34m()\u001b[0m\n\u001b[1;32m      1\u001b[0m \u001b[0mplt\u001b[0m\u001b[0;34m.\u001b[0m\u001b[0mfigure\u001b[0m\u001b[0;34m(\u001b[0m\u001b[0mfigsize\u001b[0m \u001b[0;34m=\u001b[0m \u001b[0;34m(\u001b[0m\u001b[0;36m5\u001b[0m\u001b[0;34m,\u001b[0m\u001b[0;36m5\u001b[0m\u001b[0;34m)\u001b[0m\u001b[0;34m)\u001b[0m\u001b[0;34m\u001b[0m\u001b[0m\n\u001b[1;32m      2\u001b[0m \u001b[0mplt\u001b[0m\u001b[0;34m.\u001b[0m\u001b[0msubplot\u001b[0m\u001b[0;34m(\u001b[0m\u001b[0;36m1\u001b[0m\u001b[0;34m,\u001b[0m\u001b[0;36m2\u001b[0m\u001b[0;34m,\u001b[0m\u001b[0;36m1\u001b[0m\u001b[0;34m)\u001b[0m\u001b[0;34m\u001b[0m\u001b[0m\n\u001b[0;32m----> 3\u001b[0;31m \u001b[0mseaborn\u001b[0m\u001b[0;34m.\u001b[0m\u001b[0mdistplot\u001b[0m\u001b[0;34m(\u001b[0m\u001b[0mmale_earnings\u001b[0m\u001b[0;34m)\u001b[0m\u001b[0;34m\u001b[0m\u001b[0m\n\u001b[0m\u001b[1;32m      4\u001b[0m \u001b[0mplt\u001b[0m\u001b[0;34m.\u001b[0m\u001b[0msubplot\u001b[0m\u001b[0;34m(\u001b[0m\u001b[0;36m1\u001b[0m\u001b[0;34m,\u001b[0m\u001b[0;36m2\u001b[0m\u001b[0;34m,\u001b[0m\u001b[0;36m2\u001b[0m\u001b[0;34m)\u001b[0m\u001b[0;34m\u001b[0m\u001b[0m\n\u001b[1;32m      5\u001b[0m \u001b[0mseaborn\u001b[0m\u001b[0;34m.\u001b[0m\u001b[0mdisplot\u001b[0m\u001b[0;34m(\u001b[0m\u001b[0mfemale_earnings\u001b[0m\u001b[0;34m)\u001b[0m\u001b[0;34m\u001b[0m\u001b[0m\n",
      "\u001b[0;32m/usr/local/lib/python2.7/site-packages/seaborn/distributions.pyc\u001b[0m in \u001b[0;36mdistplot\u001b[0;34m(a, bins, hist, kde, rug, fit, hist_kws, kde_kws, rug_kws, fit_kws, color, vertical, norm_hist, axlabel, label, ax)\u001b[0m\n\u001b[1;32m    190\u001b[0m             \u001b[0mline\u001b[0m\u001b[0;34m,\u001b[0m \u001b[0;34m=\u001b[0m \u001b[0max\u001b[0m\u001b[0;34m.\u001b[0m\u001b[0mplot\u001b[0m\u001b[0;34m(\u001b[0m\u001b[0;36m0\u001b[0m\u001b[0;34m,\u001b[0m \u001b[0ma\u001b[0m\u001b[0;34m.\u001b[0m\u001b[0mmean\u001b[0m\u001b[0;34m(\u001b[0m\u001b[0;34m)\u001b[0m\u001b[0;34m)\u001b[0m\u001b[0;34m\u001b[0m\u001b[0m\n\u001b[1;32m    191\u001b[0m         \u001b[0;32melse\u001b[0m\u001b[0;34m:\u001b[0m\u001b[0;34m\u001b[0m\u001b[0m\n\u001b[0;32m--> 192\u001b[0;31m             \u001b[0mline\u001b[0m\u001b[0;34m,\u001b[0m \u001b[0;34m=\u001b[0m \u001b[0max\u001b[0m\u001b[0;34m.\u001b[0m\u001b[0mplot\u001b[0m\u001b[0;34m(\u001b[0m\u001b[0ma\u001b[0m\u001b[0;34m.\u001b[0m\u001b[0mmean\u001b[0m\u001b[0;34m(\u001b[0m\u001b[0;34m)\u001b[0m\u001b[0;34m,\u001b[0m \u001b[0;36m0\u001b[0m\u001b[0;34m)\u001b[0m\u001b[0;34m\u001b[0m\u001b[0m\n\u001b[0m\u001b[1;32m    193\u001b[0m         \u001b[0mcolor\u001b[0m \u001b[0;34m=\u001b[0m \u001b[0mline\u001b[0m\u001b[0;34m.\u001b[0m\u001b[0mget_color\u001b[0m\u001b[0;34m(\u001b[0m\u001b[0;34m)\u001b[0m\u001b[0;34m\u001b[0m\u001b[0m\n\u001b[1;32m    194\u001b[0m         \u001b[0mline\u001b[0m\u001b[0;34m.\u001b[0m\u001b[0mremove\u001b[0m\u001b[0;34m(\u001b[0m\u001b[0;34m)\u001b[0m\u001b[0;34m\u001b[0m\u001b[0m\n",
      "\u001b[0;32m/usr/local/lib/python2.7/site-packages/numpy/core/_methods.pyc\u001b[0m in \u001b[0;36m_mean\u001b[0;34m(a, axis, dtype, out, keepdims)\u001b[0m\n\u001b[1;32m     70\u001b[0m         \u001b[0mret\u001b[0m \u001b[0;34m=\u001b[0m \u001b[0mret\u001b[0m\u001b[0;34m.\u001b[0m\u001b[0mdtype\u001b[0m\u001b[0;34m.\u001b[0m\u001b[0mtype\u001b[0m\u001b[0;34m(\u001b[0m\u001b[0mret\u001b[0m \u001b[0;34m/\u001b[0m \u001b[0mrcount\u001b[0m\u001b[0;34m)\u001b[0m\u001b[0;34m\u001b[0m\u001b[0m\n\u001b[1;32m     71\u001b[0m     \u001b[0;32melse\u001b[0m\u001b[0;34m:\u001b[0m\u001b[0;34m\u001b[0m\u001b[0m\n\u001b[0;32m---> 72\u001b[0;31m         \u001b[0mret\u001b[0m \u001b[0;34m=\u001b[0m \u001b[0mret\u001b[0m \u001b[0;34m/\u001b[0m \u001b[0mrcount\u001b[0m\u001b[0;34m\u001b[0m\u001b[0m\n\u001b[0m\u001b[1;32m     73\u001b[0m \u001b[0;34m\u001b[0m\u001b[0m\n\u001b[1;32m     74\u001b[0m     \u001b[0;32mreturn\u001b[0m \u001b[0mret\u001b[0m\u001b[0;34m\u001b[0m\u001b[0m\n",
      "\u001b[0;31mTypeError\u001b[0m: unsupported operand type(s) for /: 'NoneType' and 'int'"
     ]
    },
    {
     "data": {
      "image/png": "[encoded data removed]",
      "text/plain": [
       "<matplotlib.figure.Figure at 0x108d63610>"
      ]
     },
     "metadata": {},
     "output_type": "display_data"
    }
   ],
   "source": [
    "plt.figure(figsize = (5,5))\n",
    "plt.subplot(1,2,1)\n",
    "seaborn.distplot(male_earnings)\n",
    "plt.subplot(1,2,2)\n",
    "seaborn.displot(female_earnings)\n",
    "plt.show()"
   ]
  },
  {
   "cell_type": "code",
   "execution_count": null,
   "metadata": {
    "collapsed": true
   },
   "outputs": [],
   "source": []
  }
 ],
 "metadata": {
  "kernelspec": {
   "display_name": "Python 2",
   "language": "python",
   "name": "python2"
  },
  "language_info": {
   "codemirror_mode": {
    "name": "ipython",
    "version": 2
   },
   "file_extension": ".py",
   "mimetype": "text/x-python",
   "name": "python",
   "nbconvert_exporter": "python",
   "pygments_lexer": "ipython2",
   "version": "2.7.11"
  }
 },
 "nbformat": 4,
 "nbformat_minor": 0
}
